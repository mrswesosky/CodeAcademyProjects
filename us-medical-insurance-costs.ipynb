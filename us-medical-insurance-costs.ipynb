{
 "cells": [
  {
   "cell_type": "markdown",
   "metadata": {},
   "source": [
    "# U.S. Medical Insurance Costs"
   ]
  },
  {
   "cell_type": "code",
   "execution_count": 86,
   "metadata": {},
   "outputs": [],
   "source": [
    "import csv"
   ]
  },
  {
   "cell_type": "code",
   "execution_count": 87,
   "metadata": {},
   "outputs": [],
   "source": [
    "#making the lists for each header\n",
    "age = []\n",
    "sex = []\n",
    "bmi = []\n",
    "children = []\n",
    "smoker = []\n",
    "region = []\n",
    "charges = []"
   ]
  },
  {
   "cell_type": "code",
   "execution_count": 88,
   "metadata": {},
   "outputs": [],
   "source": [
    "#filling out the lists with the csv data\n",
    "with open(\"insurance.csv\") as insurance:\n",
    "    row_reader = csv.DictReader(insurance)\n",
    "    for row in row_reader:\n",
    "        age.append(row[\"age\"])\n",
    "        sex.append(row[\"sex\"])\n",
    "        bmi.append(row[\"bmi\"])\n",
    "        children.append(row[\"children\"])\n",
    "        smoker.append(row[\"smoker\"])\n",
    "        region.append(row[\"region\"])\n",
    "        charges.append(row[\"charges\"])     "
   ]
  },
  {
   "cell_type": "code",
   "execution_count": 89,
   "metadata": {},
   "outputs": [],
   "source": [
    "#creating more specific lists\n",
    "has_children_charges = []\n",
    "no_children_charges = []\n",
    "smoker_charges = []\n",
    "nonsmoker_charges = []\n",
    "smoker_bmi = []\n",
    "nonsmoker_bmi = []\n",
    "sw_charges = []\n",
    "nw_charges = []\n",
    "ne_charges = []\n",
    "se_charges = []\n",
    "sw_bmi = []\n",
    "nw_bmi = []\n",
    "ne_bmi = []\n",
    "se_bmi = []\n",
    "female_bmi = []\n",
    "female_charges = []\n",
    "male_bmi = []\n",
    "male_charges = []\n",
    "total_accounts = len(sex)"
   ]
  },
  {
   "cell_type": "code",
   "execution_count": 90,
   "metadata": {},
   "outputs": [],
   "source": [
    "#filling out the specific lists for region info\n",
    "with open (\"insurance.csv\") as insurance:\n",
    "    row_reader = csv.DictReader(insurance)\n",
    "    for row in row_reader:\n",
    "        if row[\"region\"]==\"northeast\":\n",
    "            ne_bmi.append(row[\"bmi\"])\n",
    "            ne_charges.append(row[\"charges\"])\n",
    "        elif row[\"region\"]==\"southeast\":\n",
    "            se_bmi.append(row[\"bmi\"])\n",
    "            se_charges.append(row[\"charges\"])\n",
    "        elif row[\"region\"]==\"northwest\":\n",
    "            nw_bmi.append(row[\"bmi\"])\n",
    "            nw_charges.append(row[\"charges\"])\n",
    "        elif row[\"region\"] ==\"southwest\":\n",
    "            sw_bmi.append(row[\"bmi\"])\n",
    "            sw_charges.append(row[\"charges\"])"
   ]
  },
  {
   "cell_type": "code",
   "execution_count": 91,
   "metadata": {},
   "outputs": [],
   "source": [
    "#filling out the specific lists for sex info\n",
    "with open (\"insurance.csv\") as insurance:\n",
    "    row_reader = csv.DictReader(insurance)\n",
    "    for row in row_reader:\n",
    "        if row [\"sex\"] == \"female\":\n",
    "            female_bmi.append(row[\"bmi\"])\n",
    "            female_charges.append(row[\"charges\"])\n",
    "        elif row [\"sex\"] == \"male\":\n",
    "            male_bmi.append(row[\"bmi\"])\n",
    "            male_charges.append(row[\"charges\"])"
   ]
  },
  {
   "cell_type": "code",
   "execution_count": 92,
   "metadata": {},
   "outputs": [],
   "source": [
    "#filling out the specific lists for children info\n",
    "with open (\"insurance.csv\") as insurance:\n",
    "    row_reader = csv.DictReader(insurance)\n",
    "    for row in row_reader:\n",
    "        if row [\"children\"] == \"0\":\n",
    "            no_children_charges.append(row[\"charges\"])\n",
    "        elif row[\"children\"] != \"0\":\n",
    "            has_children_charges.append(row[\"charges\"])"
   ]
  },
  {
   "cell_type": "code",
   "execution_count": 93,
   "metadata": {},
   "outputs": [],
   "source": [
    "#filling out the specific lists for smoker info\n",
    "with open (\"insurance.csv\") as insurance:\n",
    "    row_reader = csv.DictReader(insurance)\n",
    "    for row in row_reader:\n",
    "        if row[\"smoker\"] == \"yes\":\n",
    "            smoker_bmi.append(row[\"bmi\"])\n",
    "            smoker_charges.append(row[\"charges\"])\n",
    "        elif row [\"smoker\"] == \"no\":\n",
    "            nonsmoker_bmi.append(row[\"bmi\"])\n",
    "            nonsmoker_charges.append(row[\"charges\"])"
   ]
  },
  {
   "cell_type": "code",
   "execution_count": 94,
   "metadata": {},
   "outputs": [],
   "source": [
    "#converting the string information within the prior lists to floats\n",
    "converted_has_children_charges = [float(hc) for hc in has_children_charges]\n",
    "converted_no_children_charges = [float(nc) for nc in no_children_charges]\n",
    "converted_smoker_charges = [float(sm) for sm in smoker_charges]\n",
    "converted_nonsmoker_charges = [float(ns) for ns in nonsmoker_charges]\n",
    "converted_smoker_bmi = [float(sm) for sm in smoker_bmi]\n",
    "converted_nonsmoker_bmi = [float(ns) for ns in nonsmoker_bmi]\n",
    "converted_sw_charges = [float(sw) for sw in sw_charges]\n",
    "converted_nw_charges = [float(nw) for nw in nw_charges]\n",
    "converted_ne_charges = [float(ne) for ne in ne_charges]\n",
    "converted_se_charges = [float(se) for se in se_charges]\n",
    "converted_sw_bmi = [float(sw) for sw in sw_bmi]\n",
    "converted_nw_bmi = [float(nw) for nw in nw_bmi]\n",
    "converted_ne_bmi = [float(ne) for ne in ne_bmi]\n",
    "converted_se_bmi = [float(se) for se in se_bmi]\n",
    "converted_female_bmi = [float(fe) for fe in female_bmi]\n",
    "converted_female_charges = [float(fc) for fc in female_charges]\n",
    "converted_male_bmi = [float(ma) for ma in male_bmi]\n",
    "converted_male_charges = [float(mc) for mc in male_charges]\n",
    "converted_bmi = [float(b) for b in bmi]\n",
    "converted_charges = [float(c) for c in charges]\n",
    "converted_ages = [int(a) for a in age]\n",
    "converted_num_of_children = [int(b) for b in children]\n",
    "\n",
    "#total charges\n",
    "total_charges = 0\n",
    "for charge in converted_charges:\n",
    "    total_charges += charge"
   ]
  },
  {
   "cell_type": "code",
   "execution_count": 95,
   "metadata": {},
   "outputs": [],
   "source": [
    "#calculating the averages, and rounding to the nearest int or 2 decimal points as needed.\n",
    "import statistics"
   ]
  },
  {
   "cell_type": "code",
   "execution_count": 96,
   "metadata": {},
   "outputs": [],
   "source": [
    "avg_age = round(statistics.mean(converted_ages))"
   ]
  },
  {
   "cell_type": "code",
   "execution_count": 97,
   "metadata": {},
   "outputs": [],
   "source": [
    "avg_bmi = round(statistics.mean(converted_bmi),2)"
   ]
  },
  {
   "cell_type": "code",
   "execution_count": 98,
   "metadata": {},
   "outputs": [],
   "source": [
    "avg_charges = round(statistics.mean(converted_charges),2)"
   ]
  },
  {
   "cell_type": "code",
   "execution_count": 99,
   "metadata": {},
   "outputs": [],
   "source": [
    "avg_num_of_children = round(statistics.mean(converted_num_of_children))"
   ]
  },
  {
   "cell_type": "code",
   "execution_count": 100,
   "metadata": {},
   "outputs": [],
   "source": [
    "avg_charges_no_children = round(statistics.mean(converted_no_children_charges),2)"
   ]
  },
  {
   "cell_type": "code",
   "execution_count": 101,
   "metadata": {},
   "outputs": [],
   "source": [
    "avg_charges_has_children = round(statistics.mean(converted_has_children_charges),2)"
   ]
  },
  {
   "cell_type": "code",
   "execution_count": 102,
   "metadata": {},
   "outputs": [],
   "source": [
    "avg_charges_smoker = round(statistics.mean(converted_smoker_charges),2)"
   ]
  },
  {
   "cell_type": "code",
   "execution_count": 103,
   "metadata": {},
   "outputs": [],
   "source": [
    "avg_charges_nonsmoker = round(statistics.mean(converted_nonsmoker_charges),2)"
   ]
  },
  {
   "cell_type": "code",
   "execution_count": 104,
   "metadata": {},
   "outputs": [],
   "source": [
    "avg_smoker_bmi = round(statistics.mean(converted_smoker_bmi), 2)"
   ]
  },
  {
   "cell_type": "code",
   "execution_count": 105,
   "metadata": {},
   "outputs": [],
   "source": [
    "avg_nonsmoker_bmi = round(statistics.mean(converted_nonsmoker_bmi), 2)"
   ]
  },
  {
   "cell_type": "code",
   "execution_count": 106,
   "metadata": {},
   "outputs": [],
   "source": [
    "avg_charges_sw = round(statistics.mean(converted_sw_charges), 2)"
   ]
  },
  {
   "cell_type": "code",
   "execution_count": 107,
   "metadata": {},
   "outputs": [],
   "source": [
    "avg_charges_nw = round(statistics.mean(converted_nw_charges), 2)"
   ]
  },
  {
   "cell_type": "code",
   "execution_count": 108,
   "metadata": {},
   "outputs": [],
   "source": [
    "avg_charges_ne = round(statistics.mean(converted_ne_charges), 2)"
   ]
  },
  {
   "cell_type": "code",
   "execution_count": 109,
   "metadata": {},
   "outputs": [],
   "source": [
    "avg_charges_se = round(statistics.mean(converted_se_charges), 2)"
   ]
  },
  {
   "cell_type": "code",
   "execution_count": 110,
   "metadata": {},
   "outputs": [],
   "source": [
    "avg_sw_bmi = round(statistics.mean(converted_sw_bmi), 2)"
   ]
  },
  {
   "cell_type": "code",
   "execution_count": 111,
   "metadata": {},
   "outputs": [],
   "source": [
    "avg_nw_bmi = round(statistics.mean(converted_nw_bmi), 2)"
   ]
  },
  {
   "cell_type": "code",
   "execution_count": 112,
   "metadata": {},
   "outputs": [],
   "source": [
    "avg_ne_bmi = round(statistics.mean(converted_ne_bmi), 2)"
   ]
  },
  {
   "cell_type": "code",
   "execution_count": 113,
   "metadata": {},
   "outputs": [],
   "source": [
    "avg_se_bmi = round(statistics.mean(converted_se_bmi), 2)"
   ]
  },
  {
   "cell_type": "code",
   "execution_count": 114,
   "metadata": {},
   "outputs": [],
   "source": [
    "avg_female_bmi = round(statistics.mean(converted_female_bmi), 2)"
   ]
  },
  {
   "cell_type": "code",
   "execution_count": 115,
   "metadata": {},
   "outputs": [],
   "source": [
    "avg_charges_female = round(statistics.mean(converted_female_charges), 2)"
   ]
  },
  {
   "cell_type": "code",
   "execution_count": 116,
   "metadata": {},
   "outputs": [],
   "source": [
    "avg_male_bmi = round(statistics.mean(converted_male_bmi), 2)"
   ]
  },
  {
   "cell_type": "code",
   "execution_count": 117,
   "metadata": {},
   "outputs": [],
   "source": [
    "avg_charges_male = round(statistics.mean(converted_male_charges), 2)"
   ]
  },
  {
   "cell_type": "code",
   "execution_count": 118,
   "metadata": {},
   "outputs": [],
   "source": [
    "def analyze (datapoint):\n",
    "    if datapoint == \"age\":\n",
    "        print (\"The average age for the accounts in our dataset is \" + str(avg_age) + \".\")\n",
    "    elif datapoint == \"sex\":\n",
    "        print(\"There are \" + str(sex.count(\"female\")) + \" female accounts, and \" + str(sex.count(\"male\")) + \" male accounts.\")\n",
    "        print(\"The average female BMI is \" + str(avg_female_bmi) + \".  While the average male BMI is \" + str(avg_male_bmi) + \". That is \" + str(round(avg_male_bmi-avg_female_bmi, 2)) + \" points difference.\")\n",
    "        print(\"The average insurance charges for a female is $\" + str(avg_charges_female) + \", and the average insurance charges for a male is $\" + str(avg_charges_male) + \".  That is a difference of $\" + str(round(avg_charges_male-avg_charges_female,2)) + \".\")\n",
    "    elif datapoint == \"bmi\":\n",
    "        print(str(avg_bmi) + \" is the average BMI of these accounts.\")\n",
    "        print(\"The average female BMI is \" + str(avg_female_bmi) + \".  While the average male BMI is \" + str(avg_male_bmi) + \". That is \" + str(round(avg_male_bmi-avg_female_bmi, 2)) + \" points difference.\")\n",
    "        print(\"The average BMI by Region is \" + str(avg_sw_bmi) + \" for the Southwest, \" + str(avg_nw_bmi) + \" for the Northwest, \" + str(avg_se_bmi) + \" for the Southeast, and \" + str(avg_ne_bmi) + \" for the Northeast.\")\n",
    "        print(\"Smokers have an average BMI of \" + str(avg_smoker_bmi) + \". While nonsmokers have an average BMI of \" + str(avg_nonsmoker_bmi)+ \".\")\n",
    "    elif datapoint == \"children\":\n",
    "        print(str(total_accounts - children.count(\"0\")), \" out of \" + str(total_accounts) + \" total accounts have children.  Of those accounts the average number of children is \" + str(avg_num_of_children) + \".\")\n",
    "        print(\"The average insurance charges for someone with children is $\" + str(avg_charges_has_children) + \".  Accounts with no children were at an average insurance charge of $\" + str(avg_charges_no_children) + \".  That is a difference of $\" + str(round(avg_charges_has_children-avg_charges_no_children, 2)) + \".\")\n",
    "        print(\"For the accounts that had children, the average number of children was \" + str(avg_num_of_children) + \".\")\n",
    "    elif datapoint == \"smoker\":\n",
    "        print(\"There are \" + str(smoker.count(\"yes\")) + \" smoker accounts, and \" + str(smoker.count(\"no\")) + \" nonsmoker accounts.\")\n",
    "        print(\"Smokers have an average BMI of \" + str(avg_smoker_bmi) + \". While non-smokers have an average BMI of \" + str(avg_nonsmoker_bmi)+ \".\")\n",
    "        print(\"The average insurance charges for a smoker is $\" + str(avg_charges_smoker) + \".  A nonsmoker in comparison has an average insurance charge of $\" + str(avg_charges_nonsmoker) + \".  That is a difference of $\" +str(avg_charges_smoker-avg_charges_nonsmoker) + \".\")\n",
    "    elif datapoint == \"region\":\n",
    "        print(\"There are \" + str(region.count(\"southwest\")) + \" accounts in the Southwest, \" + str(region.count(\"northwest\")) + \" accounts in the Northwest, \" + str(region.count(\"southeast\")) + \" accounts in the Southeast, and \" + str(region.count(\"northeast\")) + \" accounts in the Northeast.\")\n",
    "        print(\"The average BMI by Region is \" + str(avg_sw_bmi) + \" for the Southwest, \" + str(avg_nw_bmi) + \" for the Northwest, \" + str(avg_se_bmi) + \" for the Southeast, and \" + str(avg_ne_bmi) + \" for the Northeast.\")\n",
    "        print(\"The average insurance charges by Region is $\" + str(avg_charges_sw) + \" for the Southwest, $\" + str(avg_charges_nw) + \" for the Northwest, $\" + str(avg_charges_se) + \" for the Southeast, and $\" + str(avg_charges_ne) + \" for the Northeast.\")\n",
    "    elif datapoint == \"charges\":\n",
    "        print(\"The average insurance charge is $\" + str(avg_charges) + \".\")\n",
    "        print(\"The average insurance charges for a female is $\" + str(avg_charges_female) + \", and the average insurance charges for a male is $\" + str(avg_charges_male) + \".  That is a difference of $\" + str(round(avg_charges_male-avg_charges_female,2)) + \".\")\n",
    "        print(\"The average insurance charges for someone with children is $\" + str(avg_charges_has_children) + \". While accounts with no children were at an average insurance charge of $\" + str(avg_charges_no_children) + \".  That is a difference of $\" + str(round(avg_charges_has_children-avg_charges_no_children, 2)) + \".\")\n",
    "        print(\"The average insurance charges for a smoker is $\" + str(avg_charges_smoker) + \".  A non-smoker in comparison has an average insurance charge of $\" + str(avg_charges_nonsmoker) + \".  That is a difference of $\" +str(avg_charges_smoker-avg_charges_nonsmoker) + \".\")\n",
    "        print(\"The average insurance charges by Region is $\" + str(avg_charges_sw) + \" for the Southwest, $\" + str(avg_charges_nw) + \" for the Northwest, $\" + str(avg_charges_se) + \" for the Southeast, and $\" + str(avg_charges_ne) + \" for the Northeast.\")\n",
    "    elif datapoint == \"totals\":\n",
    "        print(\"Total accounts: \" + str(total_accounts))\n",
    "        print(\"Female accounts: \" + str(sex.count(\"female\")))\n",
    "        print(\"Male accounts: \" + str(sex.count(\"male\")))\n",
    "        print(\"Smoker accounts: \" + str(smoker.count(\"yes\")))\n",
    "        print(\"Nonsmoker accounts: \" + str(smoker.count(\"no\")))\n",
    "        print(\"Accounts with children: \" + str(total_accounts - children.count(\"0\")))\n",
    "        print(\"Accounts without children: \" + str(children.count(\"0\")))\n",
    "        print(\"Total Charges collected: $\" + str(round(total_charges, 2)))\n",
    "    else: \n",
    "        print(\"Invalid input, please try one of the following datapoints: age, sex, bmi, children, smoker, region, charges, or totals.\")"
   ]
  },
  {
   "cell_type": "code",
   "execution_count": 119,
   "metadata": {},
   "outputs": [
    {
     "name": "stdout",
     "output_type": "stream",
     "text": [
      "The average age for the accounts in our dataset is 39.\n"
     ]
    }
   ],
   "source": [
    "analyze(\"age\")"
   ]
  },
  {
   "cell_type": "code",
   "execution_count": 120,
   "metadata": {},
   "outputs": [
    {
     "name": "stdout",
     "output_type": "stream",
     "text": [
      "There are 662 female accounts, and 676 male accounts.\n",
      "The average female BMI is 30.38.  While the average male BMI is 30.94. That is 0.56 points difference.\n",
      "The average insurance charges for a female is $12569.58, and the average insurance charges for a male is $13956.75.  That is a difference of $1387.17.\n"
     ]
    }
   ],
   "source": [
    "analyze(\"sex\")"
   ]
  },
  {
   "cell_type": "code",
   "execution_count": 121,
   "metadata": {},
   "outputs": [
    {
     "name": "stdout",
     "output_type": "stream",
     "text": [
      "30.66 is the average BMI of these accounts.\n",
      "The average female BMI is 30.38.  While the average male BMI is 30.94. That is 0.56 points difference.\n",
      "The average BMI by Region is 30.6 for the Southwest, 29.2 for the Northwest, 33.36 for the Southeast, and 29.17 for the Northeast.\n",
      "Smokers have an average BMI of 30.71. While nonsmokers have an average BMI of 30.65.\n"
     ]
    }
   ],
   "source": [
    "analyze(\"bmi\")"
   ]
  },
  {
   "cell_type": "code",
   "execution_count": 122,
   "metadata": {},
   "outputs": [
    {
     "name": "stdout",
     "output_type": "stream",
     "text": [
      "764  out of 1338 total accounts have children.  Of those accounts the average number of children is 1.\n",
      "The average insurance charges for someone with children is $13949.94.  Accounts with no children were at an average insurance charge of $12365.98.  That is a difference of $1583.96.\n",
      "For the accounts that had children, the average number of children was 1.\n"
     ]
    }
   ],
   "source": [
    "analyze(\"children\")"
   ]
  },
  {
   "cell_type": "code",
   "execution_count": 123,
   "metadata": {},
   "outputs": [
    {
     "name": "stdout",
     "output_type": "stream",
     "text": [
      "There are 274 smoker accounts, and 1064 nonsmoker accounts.\n",
      "Smokers have an average BMI of 30.71. While non-smokers have an average BMI of 30.65.\n",
      "The average insurance charges for a smoker is $32050.23.  A nonsmoker in comparison has an average insurance charge of $8434.27.  That is a difference of $23615.96.\n"
     ]
    }
   ],
   "source": [
    "analyze(\"smoker\")"
   ]
  },
  {
   "cell_type": "code",
   "execution_count": 124,
   "metadata": {},
   "outputs": [
    {
     "name": "stdout",
     "output_type": "stream",
     "text": [
      "There are 325 accounts in the Southwest, 325 accounts in the Northwest, 364 accounts in the Southeast, and 324 accounts in the Northeast.\n",
      "The average BMI by Region is 30.6 for the Southwest, 29.2 for the Northwest, 33.36 for the Southeast, and 29.17 for the Northeast.\n",
      "The average insurance charges by Region is $12346.94 for the Southwest, $12417.58 for the Northwest, $14735.41 for the Southeast, and $13406.38 for the Northeast.\n"
     ]
    }
   ],
   "source": [
    "analyze(\"region\")"
   ]
  },
  {
   "cell_type": "code",
   "execution_count": 125,
   "metadata": {},
   "outputs": [
    {
     "name": "stdout",
     "output_type": "stream",
     "text": [
      "The average insurance charge is $13270.42.\n",
      "The average insurance charges for a female is $12569.58, and the average insurance charges for a male is $13956.75.  That is a difference of $1387.17.\n",
      "The average insurance charges for someone with children is $13949.94. While accounts with no children were at an average insurance charge of $12365.98.  That is a difference of $1583.96.\n",
      "The average insurance charges for a smoker is $32050.23.  A non-smoker in comparison has an average insurance charge of $8434.27.  That is a difference of $23615.96.\n",
      "The average insurance charges by Region is $12346.94 for the Southwest, $12417.58 for the Northwest, $14735.41 for the Southeast, and $13406.38 for the Northeast.\n"
     ]
    }
   ],
   "source": [
    "analyze(\"charges\")"
   ]
  },
  {
   "cell_type": "code",
   "execution_count": 126,
   "metadata": {},
   "outputs": [
    {
     "name": "stdout",
     "output_type": "stream",
     "text": [
      "Total accounts: 1338\n",
      "Female accounts: 662\n",
      "Male accounts: 676\n",
      "Smoker accounts: 274\n",
      "Nonsmoker accounts: 1064\n",
      "Accounts with children: 764\n",
      "Accounts without children: 574\n",
      "Total Charges collected: $17755824.99\n"
     ]
    }
   ],
   "source": [
    "analyze(\"totals\")"
   ]
  },
  {
   "cell_type": "code",
   "execution_count": 127,
   "metadata": {},
   "outputs": [
    {
     "name": "stdout",
     "output_type": "stream",
     "text": [
      "Invalid input, please try one of the following datapoints: age, sex, bmi, children, smoker, region, charges, or totals.\n"
     ]
    }
   ],
   "source": [
    "analyze(\"error\")"
   ]
  },
  {
   "cell_type": "code",
   "execution_count": null,
   "metadata": {},
   "outputs": [],
   "source": []
  },
  {
   "cell_type": "code",
   "execution_count": null,
   "metadata": {},
   "outputs": [],
   "source": []
  },
  {
   "cell_type": "code",
   "execution_count": null,
   "metadata": {},
   "outputs": [],
   "source": []
  },
  {
   "cell_type": "code",
   "execution_count": null,
   "metadata": {},
   "outputs": [],
   "source": []
  }
 ],
 "metadata": {
  "kernelspec": {
   "display_name": "Python 3 (ipykernel)",
   "language": "python",
   "name": "python3"
  },
  "language_info": {
   "codemirror_mode": {
    "name": "ipython",
    "version": 3
   },
   "file_extension": ".py",
   "mimetype": "text/x-python",
   "name": "python",
   "nbconvert_exporter": "python",
   "pygments_lexer": "ipython3",
   "version": "3.9.13"
  }
 },
 "nbformat": 4,
 "nbformat_minor": 4
}
